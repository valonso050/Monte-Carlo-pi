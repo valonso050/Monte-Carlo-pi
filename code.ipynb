{
 "cells": [
  {
   "cell_type": "markdown",
   "id": "a75da133",
   "metadata": {},
   "source": [
    "### Monte Carlo type approximation to the true value of π"
   ]
  },
  {
   "cell_type": "markdown",
   "id": "ce139fe9",
   "metadata": {},
   "source": []
  },
  {
   "cell_type": "code",
   "execution_count": 15,
   "id": "157b3fec",
   "metadata": {},
   "outputs": [],
   "source": [
    "# We will use numpy for random number generation and array manipulations\n",
    "import numpy as np\n",
    "\n",
    "def shoot_darts(N: int, rng: np.random.Generator) -> tuple[np.ndarray, np.ndarray]:\n",
    "    \n",
    "    # Generates N random and independent x,y darts in the square [-1,1] x [-1,1]\n",
    "    x = rng.uniform(-1.0, 1.0, size=N)\n",
    "    y = rng.uniform(-1.0, 1.0, size=N)\n",
    "    \n",
    "    return x, y\n",
    "\n",
    "\n",
    "def inside_circle(x: np.ndarray, y: np.ndarray) -> np.ndarray:\n",
    "    \n",
    "    # Returns a boolean numpy array indicating whether each (x,y) dart falls inside the unit circle (radius=1, origin=(0,0))\n",
    "    return (x*x + y*y) <= 1.0\n",
    "\n",
    "\n",
    "def simulate_pi(N: int, seed: int | None = None) -> float:\n",
    "    \n",
    "    # Generates random numbers using the numpy random generator with a given seed if there is any (for reproducibility)\n",
    "    rng = np.random.default_rng(seed)\n",
    "    # Uses the function shoot_darts to get the x and y coordinates of the darts shot\n",
    "    x, y = shoot_darts(N, rng)\n",
    "    # Uses the function inside_circle to determine which darts are inside the unit circle\n",
    "    inside = inside_circle(x, y)\n",
    "    # Counts the number of darts that are inside the unit circle (that is, the number of True values in the boolean array)\n",
    "    hits = np.count_nonzero(inside)\n",
    "    # Calculates the proportion of darts that are inside the unit circle (EXPLAIN ---> mathematically this proportion is approximately π/4)\n",
    "    proportion = hits / N\n",
    "    # Returns the approximation of π\n",
    "    return 4.0 * proportion\n",
    "\n",
    "\n",
    "def repeat_experiment(N: int, K: int, seed: int | None = None) -> dict:\n",
    "    \n",
    "    # This function repeats the simulation of π K times, each time with N darts, and returns a dictionary with the results\n",
    "    \n",
    "    # If there is no given seed, each run of the experiment will be independent and non-reproducible\n",
    "    # If there is a given seed, we will use the numpy method to generate sub-seeds, this way each run of the experiment will be independent but reproducible\n",
    "    if seed is None:\n",
    "        seeds = [None] * K\n",
    "    else:\n",
    "        ss = np.random.SeedSequence(seed)\n",
    "        seeds = ss.spawn(K)\n",
    "\n",
    "    # Preallocated array to store the K estimates of π (avoids dynamic resizing)\n",
    "    estimates = np.empty(K, dtype=float)\n",
    "\n",
    "    for i in range(K):\n",
    "        # If the seeds have been generated using SeedSequence, we create a new Generator for each run\n",
    "        # Then we use the shoot_darts and inside_circle functions to estimate π as we explained before\n",
    "        if isinstance(seeds[i], np.random.SeedSequence):\n",
    "            rng_i = np.random.default_rng(seeds[i]) \n",
    "            x, y = shoot_darts(N, rng_i)\n",
    "            hits = np.count_nonzero(inside_circle(x, y))\n",
    "            estimates[i] = 4.0 * (hits / N)\n",
    "        # If the seed is None, we just call simulate_pi with seed=None\n",
    "        else:\n",
    "            estimates[i] = simulate_pi(N, seed=seeds[i])\n",
    "\n",
    "    # Here we calculate some descriptive statistics of the sample of k estimates of π\n",
    "    mean = estimates.mean() # mean\n",
    "    std = estimates.std(ddof=1) if K > 1 else 0.0 # standard deviation (applying Bessel's correction)\n",
    "    se = std / np.sqrt(K) if K > 0 else np.nan # standard error of the mean\n",
    "    ci95 = (mean - 1.96*se, mean + 1.96*se) if K > 0 else (np.nan, np.nan) # 95% confidence interval for the mean\n",
    "\n",
    "    # Dictionary with the results tidily shown\n",
    "    # To achieve that, we convert np.float64 to python native float (always accounting for NaN values), and restrict the number of decimals to 4\n",
    "    result = {\n",
    "        \"first 10 estimates\": [round(float(x), 4) for x in estimates[:10]],\n",
    "        \"mean\": round(float(mean), 4),\n",
    "        \"std\": round(float(std), 4) if not np.isnan(std) else float(\"nan\"),\n",
    "        \"se\": round(float(se), 4) if not np.isnan(se) else float(\"nan\"),\n",
    "        \"ci95\": (round(float(ci95[0]), 4), round(float(ci95[1]), 4))\n",
    "                if not (np.isnan(ci95[0]) or np.isnan(ci95[1])) else (float(\"nan\"), float(\"nan\")),\n",
    "    }\n",
    "    return result"
   ]
  },
  {
   "cell_type": "code",
   "execution_count": 16,
   "id": "65aec128",
   "metadata": {},
   "outputs": [
    {
     "data": {
      "text/plain": [
       "{'first 10 estimates': [2.4, 2.8, 3.6, 2.8, 2.8, 2.4, 2.4, 3.6, 3.6, 3.6],\n",
       " 'mean': 3.0,\n",
       " 'std': 0.5416,\n",
       " 'se': 0.1713,\n",
       " 'ci95': (2.6643, 3.3357)}"
      ]
     },
     "execution_count": 16,
     "metadata": {},
     "output_type": "execute_result"
    }
   ],
   "source": [
    "repeat_experiment(10, 10, seed=42)"
   ]
  },
  {
   "cell_type": "code",
   "execution_count": 17,
   "id": "007c42be",
   "metadata": {},
   "outputs": [
    {
     "data": {
      "text/plain": [
       "{'first 10 estimates': [3.24,\n",
       "  2.84,\n",
       "  3.08,\n",
       "  3.12,\n",
       "  2.96,\n",
       "  2.96,\n",
       "  3.12,\n",
       "  3.48,\n",
       "  3.0,\n",
       "  3.24],\n",
       " 'mean': 3.1548,\n",
       " 'std': 0.1543,\n",
       " 'se': 0.0154,\n",
       " 'ci95': (3.1246, 3.185)}"
      ]
     },
     "execution_count": 17,
     "metadata": {},
     "output_type": "execute_result"
    }
   ],
   "source": [
    "repeat_experiment(100, 100, seed=42)"
   ]
  },
  {
   "cell_type": "code",
   "execution_count": 18,
   "id": "a1f3f19f",
   "metadata": {},
   "outputs": [
    {
     "data": {
      "text/plain": [
       "{'first 10 estimates': [3.192,\n",
       "  3.1,\n",
       "  3.12,\n",
       "  3.184,\n",
       "  3.232,\n",
       "  3.052,\n",
       "  3.208,\n",
       "  3.22,\n",
       "  3.1,\n",
       "  3.18],\n",
       " 'mean': 3.1422,\n",
       " 'std': 0.0521,\n",
       " 'se': 0.0016,\n",
       " 'ci95': (3.1389, 3.1454)}"
      ]
     },
     "execution_count": 18,
     "metadata": {},
     "output_type": "execute_result"
    }
   ],
   "source": [
    "repeat_experiment(1000, 1000, seed=42)"
   ]
  },
  {
   "cell_type": "code",
   "execution_count": null,
   "id": "bfc9e33a",
   "metadata": {},
   "outputs": [
    {
     "data": {
      "text/plain": [
       "{'first 10 estimates': [3.1368,\n",
       "  3.178,\n",
       "  3.168,\n",
       "  3.1616,\n",
       "  3.1724,\n",
       "  3.1412,\n",
       "  3.1436,\n",
       "  3.1492,\n",
       "  3.1396,\n",
       "  3.13],\n",
       " 'mean': 3.1414,\n",
       " 'std': 0.0164,\n",
       " 'se': 0.0002,\n",
       " 'ci95': (3.1411, 3.1418)}"
      ]
     },
     "execution_count": 19,
     "metadata": {},
     "output_type": "execute_result"
    }
   ],
   "source": [
    "repeat_experiment(10000, 10000, seed=42)"
   ]
  }
 ],
 "metadata": {
  "kernelspec": {
   "display_name": "base",
   "language": "python",
   "name": "python3"
  },
  "language_info": {
   "codemirror_mode": {
    "name": "ipython",
    "version": 3
   },
   "file_extension": ".py",
   "mimetype": "text/x-python",
   "name": "python",
   "nbconvert_exporter": "python",
   "pygments_lexer": "ipython3",
   "version": "3.13.5"
  }
 },
 "nbformat": 4,
 "nbformat_minor": 5
}
