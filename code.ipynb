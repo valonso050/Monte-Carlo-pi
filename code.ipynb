{
 "cells": [
  {
   "cell_type": "markdown",
   "id": "a75da133",
   "metadata": {},
   "source": [
    "## Monte-Carlo type approximation to the true value of $π$"
   ]
  },
  {
   "cell_type": "markdown",
   "id": "ce139fe9",
   "metadata": {},
   "source": [
    "We have been tasked with finding the value of $π$ via a Monte-Carlo simulation, sounds simple enough but before we get to the programming, some basics:"
   ]
  },
  {
   "cell_type": "markdown",
   "id": "730c836b",
   "metadata": {},
   "source": [
    "### Monte-Carlo approximations briefly\n",
    "\n",
    "We are talking about a technique used to estimate a numerical value by using random sampling, that is, simulating many random outcomes/samples and using their average to approximate the true value.\n",
    "This is used instead of analytically solving the problem by exact calculations.\n",
    "\n",
    "**Why it works?**\n",
    "\n",
    "The Law of Large Numbers (LLN) -> As the number of samples ($N$) increases, $N \\to \\infty$, the value of our estimation converges to the true value, $\\hat{\\mu} \\to \\mu$.\n",
    "\n",
    "The Central Limit Theorem (CLT) -> As the number of samples ($N$) increases, the error of our estimation decreases by $\\frac{1}{\\sqrt{N}}$, making it more accurate."
   ]
  },
  {
   "cell_type": "markdown",
   "id": "27237caf",
   "metadata": {},
   "source": [
    "### Approximating the true value of $π$\n",
    "\n",
    "Alright, now we know what are Monte-Carlo approximations, but how do we \"aim for $π$\" exactly?\n",
    "\n",
    "We will do it with a **square** and a **circle**:\n",
    "\n",
    "If we have a square of length $S$, it's area will be $S^2$\n",
    "\n",
    "If we have a square of the same diameter, that is, of radius $R = \\frac{S}{2}$, it's area will be $\\pi R^2 = \\pi\\left(\\tfrac{S}{2}\\right)^2 = \\tfrac{\\pi S^2}{4}$\n",
    "\n",
    "If we then overlap the square and circle, we can calculate the ratio of the square area that the circle occupies:\n",
    "$$\\frac{\\tfrac{\\pi S^2}{4}}{S^2} = \\frac{\\pi}{4}$$\n",
    "And so, if we simulate a number of darts that are thrown at the square, calculate the proportion of them that fall inside the circle, and then multiply that number by 4, we will obtain $\\pi$.\n",
    "\n",
    "**Easy, let's do it!**"
   ]
  },
  {
   "cell_type": "markdown",
   "id": "4fb1de13",
   "metadata": {},
   "source": [
    "First, we import the necessary packages for our program"
   ]
  },
  {
   "cell_type": "code",
   "execution_count": 1,
   "id": "157b3fec",
   "metadata": {},
   "outputs": [],
   "source": [
    "# We will use numpy for random number generation and array manipulations\n",
    "import numpy as np"
   ]
  },
  {
   "cell_type": "markdown",
   "id": "84c7b5d5",
   "metadata": {},
   "source": [
    "Now we start defining the functions that we will use for our simulation of $N$ samples"
   ]
  },
  {
   "cell_type": "code",
   "execution_count": 2,
   "id": "ce6a06c8",
   "metadata": {},
   "outputs": [],
   "source": [
    "\n",
    "def shoot_darts(N: int, rng: np.random.Generator) -> tuple[np.ndarray, np.ndarray]:\n",
    "    \n",
    "    # Generates N random and independent x,y darts in the square [-1,1] x [-1,1]\n",
    "    x = rng.uniform(-1.0, 1.0, size=N)\n",
    "    y = rng.uniform(-1.0, 1.0, size=N)\n",
    "    \n",
    "    return x, y\n",
    "\n",
    "\n",
    "def inside_circle(x: np.ndarray, y: np.ndarray) -> np.ndarray:\n",
    "    \n",
    "    # Returns a boolean numpy array indicating whether each (x,y) dart falls inside the unit circle (radius=1, origin=(0,0))\n",
    "    return (x*x + y*y) <= 1.0\n",
    "\n",
    "\n",
    "def simulate_pi(N: int, seed: int | None = None) -> float:\n",
    "    \n",
    "    # Generates random numbers using the numpy random generator with a given seed if there is any (for reproducibility)\n",
    "    rng = np.random.default_rng(seed)\n",
    "    # Uses the function shoot_darts to get the x and y coordinates of the darts shot\n",
    "    x, y = shoot_darts(N, rng)\n",
    "    # Uses the function inside_circle to determine which darts are inside the unit circle\n",
    "    inside = inside_circle(x, y)\n",
    "    # Counts the number of darts that are inside the unit circle (that is, the number of True values in the boolean array)\n",
    "    hits = np.count_nonzero(inside)\n",
    "    # Calculates the proportion of darts that are inside the unit circle (EXPLAIN ---> mathematically this proportion is approximately π/4)\n",
    "    proportion = hits / N\n",
    "    # Returns the approximation of π\n",
    "    return 4.0 * proportion"
   ]
  },
  {
   "cell_type": "markdown",
   "id": "2a2dcea6",
   "metadata": {},
   "source": [
    "Now that we have the core functions, we define our final function that will run the experiment"
   ]
  },
  {
   "cell_type": "code",
   "execution_count": 3,
   "id": "9a41006a",
   "metadata": {},
   "outputs": [],
   "source": [
    "\n",
    "def repeat_experiment(N: int, K: int, seed: int | None = None) -> dict:\n",
    "    \n",
    "    # This function repeats the simulation of π K times, each time with N darts, and returns a dictionary with the results\n",
    "    \n",
    "    # If there is no given seed, each run of the experiment will be independent and non-reproducible\n",
    "    # If there is a given seed, we will use the numpy method to generate sub-seeds, this way each run of the experiment will be independent but reproducible\n",
    "    if seed is None:\n",
    "        seeds = [None] * K\n",
    "    else:\n",
    "        ss = np.random.SeedSequence(seed)\n",
    "        seeds = ss.spawn(K)\n",
    "\n",
    "    # Preallocated array to store the K estimates of π (avoids dynamic resizing)\n",
    "    estimates = np.empty(K, dtype=float)\n",
    "\n",
    "    for i in range(K):\n",
    "        # If the seeds have been generated using SeedSequence, we create a new Generator for each run\n",
    "        # Then we use the shoot_darts and inside_circle functions to estimate π as we explained before\n",
    "        if isinstance(seeds[i], np.random.SeedSequence):\n",
    "            rng_i = np.random.default_rng(seeds[i]) \n",
    "            x, y = shoot_darts(N, rng_i)\n",
    "            hits = np.count_nonzero(inside_circle(x, y))\n",
    "            estimates[i] = 4.0 * (hits / N)\n",
    "        # If the seed is None, we just call simulate_pi with seed=None\n",
    "        else:\n",
    "            estimates[i] = simulate_pi(N, seed=seeds[i])\n",
    "\n",
    "    # Here we calculate some descriptive statistics of the sample of k estimates of π\n",
    "    mean = estimates.mean() # mean\n",
    "    std = estimates.std(ddof=1) if K > 1 else 0.0 # standard deviation (applying Bessel's correction)\n",
    "    se = std / np.sqrt(K) if K > 0 else np.nan # standard error of the mean\n",
    "    ci95 = (mean - 1.96*se, mean + 1.96*se) if K > 0 else (np.nan, np.nan) # 95% confidence interval for the mean\n",
    "\n",
    "    # Dictionary with the results tidily shown\n",
    "    # To achieve that, we convert np.float64 to python native float (always accounting for NaN values), and restrict the number of decimals to 4\n",
    "    result = {\n",
    "        \"first 10 estimates\": [round(float(x), 4) for x in estimates[:10]],\n",
    "        \"mean\": round(float(mean), 4),\n",
    "        \"std\": round(float(std), 4) if not np.isnan(std) else float(\"nan\"),\n",
    "        \"se\": round(float(se), 4) if not np.isnan(se) else float(\"nan\"),\n",
    "        \"ci95\": (round(float(ci95[0]), 4), round(float(ci95[1]), 4))\n",
    "                if not (np.isnan(ci95[0]) or np.isnan(ci95[1])) else (float(\"nan\"), float(\"nan\")),\n",
    "    }\n",
    "    return result"
   ]
  },
  {
   "cell_type": "markdown",
   "id": "570befc9",
   "metadata": {},
   "source": [
    "Alright, all done! Now let's run it and see what happens!"
   ]
  },
  {
   "cell_type": "code",
   "execution_count": 4,
   "id": "65aec128",
   "metadata": {},
   "outputs": [
    {
     "data": {
      "text/plain": [
       "{'first 10 estimates': [2.4, 2.8, 3.6, 2.8, 2.8, 2.4, 2.4, 3.6, 3.6, 3.6],\n",
       " 'mean': 3.0,\n",
       " 'std': 0.5416,\n",
       " 'se': 0.1713,\n",
       " 'ci95': (2.6643, 3.3357)}"
      ]
     },
     "execution_count": 4,
     "metadata": {},
     "output_type": "execute_result"
    }
   ],
   "source": [
    "repeat_experiment(10, 10, seed=42)"
   ]
  },
  {
   "cell_type": "markdown",
   "id": "6b3efefc",
   "metadata": {},
   "source": [
    "We know that $\\pi = 3.14159(...)$, so it seems that 10 samples of 10 darts each is not enough to obtain an accurate estimate, let's try with more!"
   ]
  },
  {
   "cell_type": "code",
   "execution_count": 5,
   "id": "007c42be",
   "metadata": {},
   "outputs": [
    {
     "data": {
      "text/plain": [
       "{'first 10 estimates': [3.24,\n",
       "  2.84,\n",
       "  3.08,\n",
       "  3.12,\n",
       "  2.96,\n",
       "  2.96,\n",
       "  3.12,\n",
       "  3.48,\n",
       "  3.0,\n",
       "  3.24],\n",
       " 'mean': 3.1548,\n",
       " 'std': 0.1543,\n",
       " 'se': 0.0154,\n",
       " 'ci95': (3.1246, 3.185)}"
      ]
     },
     "execution_count": 5,
     "metadata": {},
     "output_type": "execute_result"
    }
   ],
   "source": [
    "repeat_experiment(100, 100, seed=42)"
   ]
  },
  {
   "cell_type": "markdown",
   "id": "c9257f8d",
   "metadata": {},
   "source": [
    "Great, with 100 samples of 100 darts each we are getting real close, but let's add more!"
   ]
  },
  {
   "cell_type": "code",
   "execution_count": 6,
   "id": "a1f3f19f",
   "metadata": {},
   "outputs": [
    {
     "data": {
      "text/plain": [
       "{'first 10 estimates': [3.192,\n",
       "  3.1,\n",
       "  3.12,\n",
       "  3.184,\n",
       "  3.232,\n",
       "  3.052,\n",
       "  3.208,\n",
       "  3.22,\n",
       "  3.1,\n",
       "  3.18],\n",
       " 'mean': 3.1422,\n",
       " 'std': 0.0521,\n",
       " 'se': 0.0016,\n",
       " 'ci95': (3.1389, 3.1454)}"
      ]
     },
     "execution_count": 6,
     "metadata": {},
     "output_type": "execute_result"
    }
   ],
   "source": [
    "repeat_experiment(1000, 1000, seed=42)"
   ]
  },
  {
   "cell_type": "markdown",
   "id": "3b7fad89",
   "metadata": {},
   "source": [
    "With the thousands we have 3 digits of $\\pi$ correctly estimated, and the standard error is getting really small, but let's do it one more time."
   ]
  },
  {
   "cell_type": "code",
   "execution_count": 7,
   "id": "bfc9e33a",
   "metadata": {},
   "outputs": [
    {
     "data": {
      "text/plain": [
       "{'first 10 estimates': [3.1368,\n",
       "  3.178,\n",
       "  3.168,\n",
       "  3.1616,\n",
       "  3.1724,\n",
       "  3.1412,\n",
       "  3.1436,\n",
       "  3.1492,\n",
       "  3.1396,\n",
       "  3.13],\n",
       " 'mean': 3.1414,\n",
       " 'std': 0.0164,\n",
       " 'se': 0.0002,\n",
       " 'ci95': (3.1411, 3.1418)}"
      ]
     },
     "execution_count": 7,
     "metadata": {},
     "output_type": "execute_result"
    }
   ],
   "source": [
    "repeat_experiment(10000, 10000, seed=42)"
   ]
  },
  {
   "cell_type": "markdown",
   "id": "8521afeb",
   "metadata": {},
   "source": [
    "We can see that for the tens of thousands the improvement has slowed down considerably. This is explained by the CLT, the \"speed\" at which our estimate approaches the true value is the same as the rate at which the standard error decreases, which is $\\frac{1}{\\sqrt{N}}$ and thus improves asymptotically.\n",
    "\n",
    "Additionally, since $\\pi$ is an irrational number, we will never obtain its exact value from a finite simulation, as the output is always rational. By contrast, if the true value was rational, like 0.4 for example, it would be possible to hit it exactly in a finite sample, but that wouldn't mean much as it would happen out of pure randomness."
   ]
  },
  {
   "cell_type": "markdown",
   "id": "fad9d7f4",
   "metadata": {},
   "source": [
    "The end"
   ]
  }
 ],
 "metadata": {
  "kernelspec": {
   "display_name": "base",
   "language": "python",
   "name": "python3"
  },
  "language_info": {
   "codemirror_mode": {
    "name": "ipython",
    "version": 3
   },
   "file_extension": ".py",
   "mimetype": "text/x-python",
   "name": "python",
   "nbconvert_exporter": "python",
   "pygments_lexer": "ipython3",
   "version": "3.13.5"
  }
 },
 "nbformat": 4,
 "nbformat_minor": 5
}
